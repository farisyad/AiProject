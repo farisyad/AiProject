{
 "cells": [
  {
   "cell_type": "code",
   "execution_count": 2,
   "metadata": {
    "colab": {
     "base_uri": "https://localhost:8080/"
    },
    "id": "VZmY47J8WwSr",
    "outputId": "6d49b9ab-dbcf-4f20-bf25-08dd730578c5"
   },
   "outputs": [
    {
     "name": "stdout",
     "output_type": "stream",
     "text": [
      "Requirement already satisfied: icrawler in c:\\users\\mfari\\anaconda3\\envs\\aioct\\lib\\site-packages (0.6.9)\n",
      "Requirement already satisfied: beautifulsoup4 in c:\\users\\mfari\\anaconda3\\envs\\aioct\\lib\\site-packages (from icrawler) (4.12.3)\n",
      "Requirement already satisfied: bs4 in c:\\users\\mfari\\anaconda3\\envs\\aioct\\lib\\site-packages (from icrawler) (0.0.2)\n",
      "Requirement already satisfied: lxml in c:\\users\\mfari\\anaconda3\\envs\\aioct\\lib\\site-packages (from icrawler) (5.3.0)\n",
      "Requirement already satisfied: pillow in c:\\users\\mfari\\anaconda3\\envs\\aioct\\lib\\site-packages (from icrawler) (11.0.0)\n",
      "Requirement already satisfied: pyyaml in c:\\users\\mfari\\anaconda3\\envs\\aioct\\lib\\site-packages (from icrawler) (6.0.2)\n",
      "Requirement already satisfied: requests in c:\\users\\mfari\\anaconda3\\envs\\aioct\\lib\\site-packages (from icrawler) (2.32.3)\n",
      "Requirement already satisfied: six in c:\\users\\mfari\\anaconda3\\envs\\aioct\\lib\\site-packages (from icrawler) (1.16.0)\n",
      "Requirement already satisfied: soupsieve>1.2 in c:\\users\\mfari\\anaconda3\\envs\\aioct\\lib\\site-packages (from beautifulsoup4->icrawler) (2.5)\n",
      "Requirement already satisfied: charset-normalizer<4,>=2 in c:\\users\\mfari\\anaconda3\\envs\\aioct\\lib\\site-packages (from requests->icrawler) (3.3.2)\n",
      "Requirement already satisfied: idna<4,>=2.5 in c:\\users\\mfari\\anaconda3\\envs\\aioct\\lib\\site-packages (from requests->icrawler) (3.7)\n",
      "Requirement already satisfied: urllib3<3,>=1.21.1 in c:\\users\\mfari\\anaconda3\\envs\\aioct\\lib\\site-packages (from requests->icrawler) (2.2.3)\n",
      "Requirement already satisfied: certifi>=2017.4.17 in c:\\users\\mfari\\anaconda3\\envs\\aioct\\lib\\site-packages (from requests->icrawler) (2024.8.30)\n",
      "Note: you may need to restart the kernel to use updated packages.\n"
     ]
    }
   ],
   "source": [
    "pip install icrawler\n"
   ]
  },
  {
   "cell_type": "code",
   "execution_count": 3,
   "metadata": {
    "colab": {
     "base_uri": "https://localhost:8080/"
    },
    "id": "9Du8dz85WCvo",
    "outputId": "7ee9bd25-2920-47f7-c4b6-442ad1ef6c34"
   },
   "outputs": [
    {
     "ename": "ModuleNotFoundError",
     "evalue": "No module named 'google'",
     "output_type": "error",
     "traceback": [
      "\u001b[1;31m---------------------------------------------------------------------------\u001b[0m",
      "\u001b[1;31mModuleNotFoundError\u001b[0m                       Traceback (most recent call last)",
      "Cell \u001b[1;32mIn[3], line 1\u001b[0m\n\u001b[1;32m----> 1\u001b[0m \u001b[38;5;28;01mfrom\u001b[39;00m \u001b[38;5;21;01mgoogle\u001b[39;00m\u001b[38;5;21;01m.\u001b[39;00m\u001b[38;5;21;01mcolab\u001b[39;00m \u001b[38;5;28;01mimport\u001b[39;00m drive\n\u001b[0;32m      2\u001b[0m \u001b[38;5;28;01mfrom\u001b[39;00m \u001b[38;5;21;01micrawler\u001b[39;00m\u001b[38;5;21;01m.\u001b[39;00m\u001b[38;5;21;01mbuiltin\u001b[39;00m \u001b[38;5;28;01mimport\u001b[39;00m BingImageCrawler\n\u001b[0;32m      4\u001b[0m \u001b[38;5;66;03m# Mount Google Drive\u001b[39;00m\n",
      "\u001b[1;31mModuleNotFoundError\u001b[0m: No module named 'google'"
     ]
    }
   ],
   "source": [
    "from google.colab import drive\n",
    "from icrawler.builtin import BingImageCrawler\n",
    "\n",
    "# Mount Google Drive\n",
    "drive.mount('/content/drive')\n",
    "\n",
    "def download_images(animal_name, output_dir, num_images):\n",
    "    print(f\"Starting download for: {animal_name}\")\n",
    "    try:\n",
    "        crawler = BingImageCrawler(storage={\"root_dir\": output_dir})\n",
    "        crawler.crawl(keyword=animal_name, max_num=num_images)\n",
    "        print(f\"Completed downloading images for: {animal_name}\")\n",
    "    except Exception as e:\n",
    "        print(f\"Error downloading images for {animal_name}: {e}\")\n",
    "\n",
    "# Define classes and save images to Google Drive\n",
    "classes = {\n",
    "    \"Cat\": \"/content/drive/My Drive/dataset/Cat\",\n",
    "    \"Elephant\": \"/content/drive/My Drive/dataset/Elephant\",\n",
    "    \"Penguin\": \"/content/drive/My Drive/dataset/Penguin\",\n",
    "    \"Dog\": \"/content/drive/My Drive/dataset/Dog\",\n",
    "    \"Bird\": \"/content/drive/My Drive/dataset/Bird\",\n",
    "    \"Whale\": \"/content/drive/My Drive/dataset/Whale\",\n",
    "    \"Bear\": \"/content/drive/My Drive/dataset/Bear\",\n",
    "    \"Fox\": \"/content/drive/My Drive/dataset/Fox\"\n",
    "}\n",
    "\n",
    "# Number of images per class\n",
    "num_images_per_class = 1250\n",
    "\n",
    "# Start downloading images\n",
    "for animal, path in classes.items():\n",
    "    print(f\"Downloading images for {animal}...\")\n",
    "    download_images(animal, path, num_images=num_images_per_class)\n",
    "    print(f\"Completed downloading images for {animal}.\")\n"
   ]
  },
  {
   "cell_type": "code",
   "execution_count": null,
   "metadata": {},
   "outputs": [],
   "source": []
  }
 ],
 "metadata": {
  "accelerator": "GPU",
  "colab": {
   "gpuType": "T4",
   "provenance": []
  },
  "kernelspec": {
   "display_name": "Python 3 (ipykernel)",
   "language": "python",
   "name": "python3"
  },
  "language_info": {
   "codemirror_mode": {
    "name": "ipython",
    "version": 3
   },
   "file_extension": ".py",
   "mimetype": "text/x-python",
   "name": "python",
   "nbconvert_exporter": "python",
   "pygments_lexer": "ipython3",
   "version": "3.9.20"
  }
 },
 "nbformat": 4,
 "nbformat_minor": 4
}
