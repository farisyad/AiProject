{
 "cells": [
  {
   "cell_type": "code",
   "execution_count": 1,
   "metadata": {
    "colab": {
     "base_uri": "https://localhost:8080/"
    },
    "id": "VZmY47J8WwSr",
    "outputId": "6d49b9ab-dbcf-4f20-bf25-08dd730578c5"
   },
   "outputs": [
    {
     "name": "stdout",
     "output_type": "stream",
     "text": [
      "Requirement already satisfied: icrawler in c:\\users\\mfari\\anaconda3\\envs\\aioct\\lib\\site-packages (0.6.9)\n",
      "Requirement already satisfied: beautifulsoup4 in c:\\users\\mfari\\anaconda3\\envs\\aioct\\lib\\site-packages (from icrawler) (4.12.3)\n",
      "Requirement already satisfied: bs4 in c:\\users\\mfari\\anaconda3\\envs\\aioct\\lib\\site-packages (from icrawler) (0.0.2)\n",
      "Requirement already satisfied: lxml in c:\\users\\mfari\\anaconda3\\envs\\aioct\\lib\\site-packages (from icrawler) (5.3.0)\n",
      "Requirement already satisfied: pillow in c:\\users\\mfari\\anaconda3\\envs\\aioct\\lib\\site-packages (from icrawler) (11.0.0)\n",
      "Requirement already satisfied: pyyaml in c:\\users\\mfari\\anaconda3\\envs\\aioct\\lib\\site-packages (from icrawler) (6.0.2)\n",
      "Requirement already satisfied: requests in c:\\users\\mfari\\anaconda3\\envs\\aioct\\lib\\site-packages (from icrawler) (2.32.3)\n",
      "Requirement already satisfied: six in c:\\users\\mfari\\anaconda3\\envs\\aioct\\lib\\site-packages (from icrawler) (1.16.0)\n",
      "Requirement already satisfied: soupsieve>1.2 in c:\\users\\mfari\\anaconda3\\envs\\aioct\\lib\\site-packages (from beautifulsoup4->icrawler) (2.5)\n",
      "Requirement already satisfied: charset-normalizer<4,>=2 in c:\\users\\mfari\\anaconda3\\envs\\aioct\\lib\\site-packages (from requests->icrawler) (3.3.2)\n",
      "Requirement already satisfied: idna<4,>=2.5 in c:\\users\\mfari\\anaconda3\\envs\\aioct\\lib\\site-packages (from requests->icrawler) (3.7)\n",
      "Requirement already satisfied: urllib3<3,>=1.21.1 in c:\\users\\mfari\\anaconda3\\envs\\aioct\\lib\\site-packages (from requests->icrawler) (2.2.3)\n",
      "Requirement already satisfied: certifi>=2017.4.17 in c:\\users\\mfari\\anaconda3\\envs\\aioct\\lib\\site-packages (from requests->icrawler) (2024.8.30)\n",
      "Note: you may need to restart the kernel to use updated packages.\n"
     ]
    }
   ],
   "source": [
    "pip install icrawler\n"
   ]
  },
  {
   "cell_type": "code",
   "execution_count": 2,
   "metadata": {
    "colab": {
     "base_uri": "https://localhost:8080/"
    },
    "id": "9Du8dz85WCvo",
    "outputId": "7ee9bd25-2920-47f7-c4b6-442ad1ef6c34"
   },
   "outputs": [
    {
     "ename": "ModuleNotFoundError",
     "evalue": "No module named 'google'",
     "output_type": "error",
     "traceback": [
      "\u001b[1;31m---------------------------------------------------------------------------\u001b[0m",
      "\u001b[1;31mModuleNotFoundError\u001b[0m                       Traceback (most recent call last)",
      "Cell \u001b[1;32mIn[2], line 1\u001b[0m\n\u001b[1;32m----> 1\u001b[0m \u001b[38;5;28;01mfrom\u001b[39;00m \u001b[38;5;21;01mgoogle\u001b[39;00m\u001b[38;5;21;01m.\u001b[39;00m\u001b[38;5;21;01mcolab\u001b[39;00m \u001b[38;5;28;01mimport\u001b[39;00m drive\n\u001b[0;32m      2\u001b[0m \u001b[38;5;28;01mfrom\u001b[39;00m \u001b[38;5;21;01micrawler\u001b[39;00m\u001b[38;5;21;01m.\u001b[39;00m\u001b[38;5;21;01mbuiltin\u001b[39;00m \u001b[38;5;28;01mimport\u001b[39;00m BingImageCrawler\n\u001b[0;32m      4\u001b[0m \u001b[38;5;66;03m# Mount Google Drive\u001b[39;00m\n",
      "\u001b[1;31mModuleNotFoundError\u001b[0m: No module named 'google'"
     ]
    }
   ],
   "source": [
    "vimport requests\n",
    "import os\n",
    "\n",
    "# Your Unsplash Access Key\n",
    "ACCESS_KEY = \"H1IVJhiehu6CL6hTwubD6biPzyvCz8F2u8qW-iadqfI\"\n",
    "\n",
    "# Function to download images from Unsplash\n",
    "def download_images_unsplash(query, output_dir, num_images=100):\n",
    "    \"\"\"\n",
    "    Download images from Unsplash API.\n",
    "    Args:\n",
    "        query (str): Search query for the images.\n",
    "        output_dir (str): Directory to save the images.\n",
    "        num_images (int): Total number of images to download.\n",
    "    \"\"\"\n",
    "    os.makedirs(output_dir, exist_ok=True)  # Ensure the directory exists\n",
    "    url = \"https://api.unsplash.com/search/photos\"\n",
    "    \n",
    "    headers = {\n",
    "        \"Authorization\": f\"Client-ID {ACCESS_KEY}\"\n",
    "    }\n",
    "    \n",
    "    total_downloaded = 0\n",
    "    page = 1\n",
    "    \n",
    "    while total_downloaded < num_images:\n",
    "        params = {\n",
    "            \"query\": query,\n",
    "            \"page\": page,\n",
    "            \"per_page\": 30  # Unsplash returns a max of 30 images per page\n",
    "        }\n",
    "        \n",
    "        response = requests.get(url, headers=headers, params=params)\n",
    "        \n",
    "        if response.status_code != 200:\n",
    "            print(f\"Failed to fetch images: {response.status_code}\")\n",
    "            print(\"Response:\", response.text)  # Print the raw response content\n",
    "            break\n",
    "        \n",
    "        try:\n",
    "            data = response.json()  # Attempt to parse the response as JSON\n",
    "        except requests.exceptions.JSONDecodeError:\n",
    "            print(\"Failed to decode JSON from the response.\")\n",
    "            print(\"Response content:\", response.text)  # Log the raw response\n",
    "            break\n",
    "        \n",
    "        images = data.get(\"results\", [])\n",
    "        \n",
    "        if not images:\n",
    "            print(\"No more images found.\")\n",
    "            break\n",
    "        \n",
    "        for image in images:\n",
    "            if total_downloaded >= num_images:\n",
    "                break\n",
    "            \n",
    "            image_url = image[\"urls\"][\"full\"]  # Full-resolution image URL\n",
    "            image_id = image[\"id\"]  # Unique image ID\n",
    "            \n",
    "            image_response = requests.get(image_url)\n",
    "            \n",
    "            if image_response.status_code == 200:\n",
    "                # Ensure the directory exists before saving\n",
    "                image_path = os.path.join(output_dir, f\"{image_id}.jpg\")\n",
    "                os.makedirs(os.path.dirname(image_path), exist_ok=True)  # Create subdirectories if necessary\n",
    "                \n",
    "                with open(image_path, \"wb\") as file:\n",
    "                    file.write(image_response.content)\n",
    "                total_downloaded += 1\n",
    "                print(f\"Downloaded {total_downloaded}/{num_images}: {image_path}\")\n",
    "            else:\n",
    "                print(f\"Failed to download image {image_id}\")\n",
    "        \n",
    "        page += 1  # Move to the next page\n",
    "\n",
    "# Dataset with species and subspecies\n",
    "dataset = {\n",
    "    \"Cat\": [\"Bengal Cat\", \"Persian Cat\", \"Maine Coon Cat\", \"Munchkin Cat\", \"Sphynx Cat\"],\n",
    "    \"Bird\": [\"Bald Eagle\", \"Parrot\", \"Penguin\", \"Flamingo\", \"Owl\"],\n",
    "    \"Whale\": [\"Blue Whale\", \"Humpback Whale\", \"Beluga Whale\", \"Orca\", \"Gray Whale\"],\n",
    "    \"Fox\": [\"Red Fox\", \"Arctic Fox\", \"Fennec Fox\", \"Gray Fox\", \"Silver Fox\"],\n",
    "    \"Bear\": [\"Polar Bear\", \"Grizzly Bear\", \"Panda Bear\", \"Black Bear\", \"Sun Bear\"],\n",
    "    \"Dog\": [\"Golden Retriever\", \"German Shepherd\", \"Poodle\", \"Bulldog\", \"Siberian Husky\"],\n",
    "    \"Penguin\": [\"Emperor Penguin\", \"King Penguin\", \"Adelie Penguin\", \"Chinstrap Penguin\", \"Gentoo Penguin\"],\n",
    "    \"Elephant\": [\"African Elephant\", \"Asian Elephant\", \"Forest Elephant\", \"Savanna Elephant\", \"Sri Lankan Elephant\"]\n",
    "}\n",
    "\n",
    "# Base directory for saving images in Google Drive\n",
    "output_dir_base = \"/content/drive/MyDrive/Unsplash_Images\"\n",
    "\n",
    "# Number of images per query\n",
    "num_images = 50  # Change this to the total number of images you want per query\n",
    "\n",
    "# Download images for each species and subspecies\n",
    "for species, subspecies_list in dataset.items():\n",
    "    for subspecies in subspecies_list:\n",
    "        output_dir = os.path.join(output_dir_base, species, subspecies.replace(\" \", \"_\"))  # Create subfolder for each species and subspecies\n",
    "        download_images_unsplash(subspecies, output_dir, num_images)\n"
   ]
  },
  {
   "cell_type": "code",
   "execution_count": null,
   "metadata": {},
   "outputs": [],
   "source": []
  }
 ],
 "metadata": {
  "accelerator": "GPU",
  "colab": {
   "gpuType": "T4",
   "provenance": []
  },
  "kernelspec": {
   "display_name": "Python 3 (ipykernel)",
   "language": "python",
   "name": "python3"
  },
  "language_info": {
   "codemirror_mode": {
    "name": "ipython",
    "version": 3
   },
   "file_extension": ".py",
   "mimetype": "text/x-python",
   "name": "python",
   "nbconvert_exporter": "python",
   "pygments_lexer": "ipython3",
   "version": "3.9.20"
  }
 },
 "nbformat": 4,
 "nbformat_minor": 4
}
